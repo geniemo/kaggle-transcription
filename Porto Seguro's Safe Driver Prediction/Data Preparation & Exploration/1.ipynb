{
 "cells": [
  {
   "cell_type": "markdown",
   "id": "a0e12fc2-173d-4218-b066-3247efb200ba",
   "metadata": {},
   "source": [
    "# Introduction"
   ]
  },
  {
   "cell_type": "markdown",
   "id": "4ab19b8e-86cb-4643-ba18-1a1ea8c918ca",
   "metadata": {},
   "source": [
    "This notebook aims at getting a good insight in the data for the PorteSeguro competition. Besides that, it gives some tips and tricks to prepare your data for modeling. The notebook consists of the following main sections:"
   ]
  }
 ],
 "metadata": {
  "kernelspec": {
   "display_name": "Python 3 (ipykernel)",
   "language": "python",
   "name": "python3"
  },
  "language_info": {
   "codemirror_mode": {
    "name": "ipython",
    "version": 3
   },
   "file_extension": ".py",
   "mimetype": "text/x-python",
   "name": "python",
   "nbconvert_exporter": "python",
   "pygments_lexer": "ipython3",
   "version": "3.11.9"
  }
 },
 "nbformat": 4,
 "nbformat_minor": 5
}
