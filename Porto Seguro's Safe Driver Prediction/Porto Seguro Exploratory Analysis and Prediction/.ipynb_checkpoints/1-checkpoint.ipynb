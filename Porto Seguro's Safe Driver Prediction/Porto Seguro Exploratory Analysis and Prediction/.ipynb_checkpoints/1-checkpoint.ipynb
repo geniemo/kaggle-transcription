{
 "cells": [
  {
   "cell_type": "markdown",
   "id": "02e0b2e0-fe78-4a4a-8767-13a7b22c3dc0",
   "metadata": {},
   "source": [
    "# Introduction"
   ]
  },
  {
   "cell_type": "markdown",
   "id": "86c7d276-261a-4ab5-8d85-96e8bb03b81c",
   "metadata": {},
   "source": [
    "This notebook starts by giving an introduction in the data of Porto Seguro competition. Then follows with preparing and running few predictive models using cross-validation and stacking and prepares a submission."
   ]
  },
  {
   "cell_type": "markdown",
   "id": "e8454a9f-7155-4547-a748-0db89758a7cd",
   "metadata": {},
   "source": [
    "# Analysis packages"
   ]
  },
  {
   "cell_type": "code",
   "execution_count": 4,
   "id": "6def57a3-3c73-45b4-ac38-95b222604f5b",
   "metadata": {},
   "outputs": [],
   "source": [
    "import matplotlib.pyplot as plt\n",
    "import numpy as np\n",
    "import pandas as pd\n",
    "import seaborn as sns\n",
    "from lightgbm import LGBMClassifier\n",
    "from sklearn.feature_selection import SelectFromModel, VarianceThreshold\n",
    "from sklearn.impute import SimpleImputer\n",
    "from sklearn.linear_model import LogisticRegression\n",
    "from sklearn.model_selection import StratifiedKFold, cross_val_score\n",
    "from sklearn.preprocessing import PolynomialFeatures, StandardScaler\n",
    "from sklearn.utils import shuffle\n",
    "from xgboost import XGBClassifier\n",
    "\n",
    "pd.set_option(\"display.max_columns\", 100)"
   ]
  },
  {
   "cell_type": "markdown",
   "id": "679f8516-d4df-41f9-8e6c-8286bfa17472",
   "metadata": {},
   "source": [
    "# Load the data"
   ]
  },
  {
   "cell_type": "code",
   "execution_count": 5,
   "id": "25372317-96a6-4546-9810-8d16ab26a511",
   "metadata": {},
   "outputs": [],
   "source": [
    "trainset = pd.read_csv(\"../input/train.csv\")\n",
    "testset = pd.read_csv(\"../input/test.csv\")"
   ]
  }
 ],
 "metadata": {
  "kernelspec": {
   "display_name": "Python 3 (ipykernel)",
   "language": "python",
   "name": "python3"
  },
  "language_info": {
   "codemirror_mode": {
    "name": "ipython",
    "version": 3
   },
   "file_extension": ".py",
   "mimetype": "text/x-python",
   "name": "python",
   "nbconvert_exporter": "python",
   "pygments_lexer": "ipython3",
   "version": "3.11.9"
  }
 },
 "nbformat": 4,
 "nbformat_minor": 5
}
