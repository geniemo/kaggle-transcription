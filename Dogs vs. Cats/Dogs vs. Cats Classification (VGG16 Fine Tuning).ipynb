{
 "cells": [
  {
   "cell_type": "markdown",
   "id": "62251f06-5a74-4f59-9744-c8cbfef1d979",
   "metadata": {},
   "source": [
    "[Dogs vs. Cats](https://www.kaggle.com/competitions/dogs-vs-cats/overview)"
   ]
  },
  {
   "cell_type": "markdown",
   "id": "c80c2013-146e-41a2-9ce2-2dd976393323",
   "metadata": {},
   "source": [
    "[Dogs vs. Cats Classification (VGG16 Fine Tuning)](https://www.kaggle.com/code/bulentsiyah/dogs-vs-cats-classification-vgg16-fine-tuning)"
   ]
  },
  {
   "cell_type": "markdown",
   "id": "5d4a5e7d-0cea-42fa-a8c0-ab9ec62fd6e8",
   "metadata": {},
   "source": [
    "# VGG: Very Deep Convolutional Networks\n",
    "\n",
    "VGG는 이미지 분류와 객체 인식을 위해 개발된 딥러닝 모델로, 2014년 옥스퍼드 대학교의 Visual Geometry Group에서 제안되었습니다. 네트워크의 깊이를 매우 깊게 쌓는 방식으로 설계되어 이미지에서 더 복잡한 특징을 추출할 수 있습니다. 특히 **VGG16**과 **VGG19**가 널리 사용됩니다.\n",
    "\n",
    "## VGG의 주요 특징\n",
    "\n",
    "### 1. **작은 3x3 필터의 일관된 사용**\n",
    "- 모든 컨볼루션 레이어에서 **3x3 크기의 필터**를 사용.\n",
    "- 작은 필터를 사용하면서도 네트워크의 깊이를 깊게 쌓아 복잡한 특징을 학습.\n",
    "\n",
    "### 2. **네트워크 깊이**\n",
    "- **VGG16**은 16개의 가중치 레이어, **VGG19**는 19개의 가중치 레이어로 구성.\n",
    "- 네트워크가 깊어질수록 더 추상적이고 고차원적인 특징을 학습.\n",
    "\n",
    "### 3. **필터의 개수 증가**\n",
    "- 각 컨볼루션 블록마다 필터의 개수를 점차 늘려가며, 깊어질수록 필터 수가 많아짐 (64 → 128 → 256 → 512).\n",
    "\n",
    "### 4. **맥스 풀링**\n",
    "- 각 블록 끝에 **2x2 맥스 풀링**을 사용하여 공간적 크기를 축소.\n",
    "- 중요한 정보를 유지하면서 계산 비용을 줄임.\n",
    "\n",
    "### 5. **Fully Connected Layer**\n",
    "- 마지막에 **완전 연결 레이어(fully connected layers)** 를 사용하여 학습된 특징을 바탕으로 분류 수행.\n",
    "- **4096-4096-1000 노드**로 구성된 완전 연결 레이어와 **소프트맥스** 출력.\n",
    "\n",
    "## VGG의 구조 (VGG16 예시)\n",
    "\n",
    "1. **Conv3-64**, **Conv3-64** + MaxPooling\n",
    "2. **Conv3-128**, **Conv3-128** + MaxPooling\n",
    "3. **Conv3-256**, **Conv3-256**, **Conv3-256** + MaxPooling\n",
    "4. **Conv3-512**, **Conv3-512**, **Conv3-512** + MaxPooling\n",
    "5. **Conv3-512**, **Conv3-512**, **Conv3-512** + MaxPooling\n",
    "6. Fully Connected Layer (4096-4096-1000) + Softmax Output\n",
    "\n",
    "## VGG의 학습 과정\n",
    "\n",
    "1. **입력 이미지**: (예: 224x224x3 크기의 RGB 이미지)\n",
    "2. **컨볼루션 레이어**: 3x3 필터를 적용해 각 패치에서 특징을 추출.\n",
    "3. **맥스 풀링 레이어**: 특징 맵의 크기를 줄여 계산 효율성 향상.\n",
    "4. **완전 연결 레이어**: 추출된 특징을 바탕으로 클래스 분류 수행.\n",
    "\n",
    "## VGG의 장점과 단점\n",
    "\n",
    "### **장점**\n",
    "- **간단한 구조**: 3x3 필터와 2x2 풀링을 일관되게 사용해 구조가 단순.\n",
    "- **성능**: 매우 깊은 네트워크로 높은 성능을 보임.\n",
    "- **전이 학습**: 사전 훈련된 가중치를 이용해 다양한 문제에 적용 가능.\n",
    "\n",
    "### **단점**\n",
    "- **많은 파라미터 수**: 1억 개 이상의 파라미터로 인해 학습 및 계산 자원이 많이 필요.\n",
    "- **메모리 및 계산 비용**: 깊고 넓은 구조로 인해 메모리 요구량과 계산 시간이 많이 소요됨.\n",
    "- **실시간 성능 제한**: 실시간 애플리케이션에 적합하지 않을 수 있음.\n",
    "\n",
    "## 결론\n",
    "VGG는 이미지 분류, 전이 학습 등 다양한 분야에서 강력한 성능을 발휘하는 모델로, 그 단순한 구조 덕분에 많은 연구 및 실용적인 애플리케이션에 널리 사용됩니다."
   ]
  }
 ],
 "metadata": {
  "kernelspec": {
   "display_name": "Python 3 (ipykernel)",
   "language": "python",
   "name": "python3"
  },
  "language_info": {
   "codemirror_mode": {
    "name": "ipython",
    "version": 3
   },
   "file_extension": ".py",
   "mimetype": "text/x-python",
   "name": "python",
   "nbconvert_exporter": "python",
   "pygments_lexer": "ipython3",
   "version": "3.10.15"
  }
 },
 "nbformat": 4,
 "nbformat_minor": 5
}
