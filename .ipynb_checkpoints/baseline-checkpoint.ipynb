{
 "cells": [
  {
   "cell_type": "markdown",
   "id": "849bd8e6-ed28-4d75-b2ef-cdca270e9af3",
   "metadata": {},
   "source": [
    "# 데이터 종류"
   ]
  },
  {
   "cell_type": "markdown",
   "id": "987a31b0-965e-4e7d-94f4-5ff624656e6a",
   "metadata": {},
   "source": [
    "## Continuous feature"
   ]
  },
  {
   "cell_type": "markdown",
   "id": "af4bbb6e-6b09-441a-9f60-c6d368df3b4d",
   "metadata": {},
   "source": [
    "### binning 예시 코드"
   ]
  },
  {
   "cell_type": "code",
   "execution_count": null,
   "id": "bab25252-56a0-481f-a688-512f57e0354d",
   "metadata": {},
   "outputs": [],
   "source": [
    "data[\"Age_band\"] = 0\n",
    "data.loc[data[\"Age\"] <= 16, \"Age_band\"] = 0\n",
    "data.loc[(data[\"Age\"] > 16) & (data[\"Age\"] <= 32), \"Age_band\"] = 1\n",
    "data.loc[(data[\"Age\"] > 32) & (data[\"Age\"] <= 48), \"Age_band\"] = 2\n",
    "data.loc[(data[\"Age\"] > 48) & (data[\"Age\"] <= 64), \"Age_band\"] = 3\n",
    "data.loc[data[\"Age\"] > 64, \"Age_band\"] = 4\n",
    "data.head(2)"
   ]
  },
  {
   "cell_type": "markdown",
   "id": "e2cd8656-431f-428a-b15d-45e21c6d5214",
   "metadata": {},
   "source": [
    "# train, test split"
   ]
  },
  {
   "cell_type": "code",
   "execution_count": null,
   "id": "a8fe733d-c89f-455d-b0a3-bc773b0e7d09",
   "metadata": {},
   "outputs": [],
   "source": [
    "train, test = train_test_split(\n",
    "    data, test_size=0.3, random_state=0, stratify=data[\"Survived\"]\n",
    ")"
   ]
  },
  {
   "cell_type": "markdown",
   "id": "2c64e91e-4ee8-4a3f-8305-fe155e910390",
   "metadata": {},
   "source": [
    "# Model 정의"
   ]
  },
  {
   "cell_type": "code",
   "execution_count": null,
   "id": "83ae7d9a-20a9-43c0-af04-d93082294ecc",
   "metadata": {},
   "outputs": [],
   "source": [
    "# importing all the required ML packages\n",
    "from sklearn import metrics  # accuracy measure\n",
    "from sklearn import svm  # support vector machine\n",
    "from sklearn.ensemble import RandomForestClassifier  # random forest\n",
    "\n",
    "from sklearn.metrics import confusion_matrix  # for confusion matrix\n",
    "from sklearn.model_selection import train_test_split  # training and testing data split\n",
    "from sklearn.naive_bayes import GaussianNB  # naive bayes\n",
    "\n",
    "from sklearn.tree import DecisionTreeClassifier  # decision tree"
   ]
  },
  {
   "cell_type": "markdown",
   "id": "f34c4a1f-e531-4238-9749-c22c14feb61c",
   "metadata": {},
   "source": [
    "## SVC(rbf)"
   ]
  },
  {
   "cell_type": "code",
   "execution_count": null,
   "id": "60126037-c462-4e88-856b-521dde734efa",
   "metadata": {},
   "outputs": [],
   "source": [
    "from sklearn import svm  # support vector machine\n",
    "\n",
    "model = svm.SVC(kernel=\"rbf\", C=1, gamma=0.1)"
   ]
  },
  {
   "cell_type": "markdown",
   "id": "de5ed0a1-ccbf-47be-9252-445f9d280313",
   "metadata": {},
   "source": [
    "## LogisticRegression"
   ]
  },
  {
   "cell_type": "code",
   "execution_count": null,
   "id": "bc52b10c-b69e-422f-ba07-902c23391417",
   "metadata": {},
   "outputs": [],
   "source": [
    "from sklearn.linear_model import LogisticRegression  # logistic regression\n",
    "\n",
    "model = LogisticRegression()"
   ]
  },
  {
   "cell_type": "markdown",
   "id": "3df14af5-6bd2-4cbb-9f30-de47b19a7e30",
   "metadata": {},
   "source": [
    "## KNN"
   ]
  },
  {
   "cell_type": "code",
   "execution_count": null,
   "id": "7747ef4b-2206-4656-b489-ba2f538d251b",
   "metadata": {},
   "outputs": [],
   "source": [
    "from sklearn.neighbors import KNeighborsClassifier  # KNN\n",
    "\n",
    "model = KNeighborsClassifier()"
   ]
  },
  {
   "cell_type": "markdown",
   "id": "4536cfea-b161-481b-9aad-7f0d498d3d95",
   "metadata": {},
   "source": [
    "## Fit, Prediction"
   ]
  },
  {
   "cell_type": "code",
   "execution_count": null,
   "id": "931b032d-ef9d-4888-ab2c-8cc9b1c7d1a9",
   "metadata": {},
   "outputs": [],
   "source": [
    "model.fit(train_X, train_y)\n",
    "prediction = model.predict(test_X)\n",
    "print(\n",
    "    f\"The accuracy of the Logistic Regression is {metrics.accuracy_score(prediction, test_y)}\"\n",
    ")"
   ]
  }
 ],
 "metadata": {
  "kernelspec": {
   "display_name": "Python 3 (ipykernel)",
   "language": "python",
   "name": "python3"
  },
  "language_info": {
   "codemirror_mode": {
    "name": "ipython",
    "version": 3
   },
   "file_extension": ".py",
   "mimetype": "text/x-python",
   "name": "python",
   "nbconvert_exporter": "python",
   "pygments_lexer": "ipython3",
   "version": "3.11.9"
  }
 },
 "nbformat": 4,
 "nbformat_minor": 5
}
